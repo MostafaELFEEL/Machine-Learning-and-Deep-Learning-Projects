{
  "nbformat": 4,
  "nbformat_minor": 0,
  "metadata": {
    "colab": {
      "provenance": [],
      "gpuType": "T4",
      "authorship_tag": "ABX9TyOkaNcZ3gfYH527PvNW/gOi",
      "include_colab_link": true
    },
    "kernelspec": {
      "name": "python3",
      "display_name": "Python 3"
    },
    "language_info": {
      "name": "python"
    },
    "accelerator": "GPU"
  },
  "cells": [
    {
      "cell_type": "markdown",
      "metadata": {
        "id": "view-in-github",
        "colab_type": "text"
      },
      "source": [
        "<a href=\"https://colab.research.google.com/github/MostafaELFEEL/Machine-Learning-and-Deep-Learning-Projects/blob/main/SVM_updated.ipynb\" target=\"_parent\"><img src=\"https://colab.research.google.com/assets/colab-badge.svg\" alt=\"Open In Colab\"/></a>"
      ]
    },
    {
      "cell_type": "code",
      "source": [
        "import cv2\n",
        "import numpy as np\n",
        "from sklearn import svm\n",
        "from sklearn.model_selection import GridSearchCV\n",
        "from sklearn.preprocessing import StandardScaler\n",
        "from sklearn.metrics import accuracy_score\n",
        "import tensorflow as tf\n",
        "\n",
        "# ------------------------------------\n",
        "# HOG Descriptor Setup\n",
        "# ------------------------------------\n",
        "win_size = (32, 32)\n",
        "block_size = (16, 16)\n",
        "block_stride = (8, 8)\n",
        "cell_size = (8, 8)\n",
        "nbins = 9\n",
        "hog = cv2.HOGDescriptor(win_size, block_size, block_stride, cell_size, nbins)\n",
        "\n",
        "# ------------------------------------\n",
        "# Load CIFAR-100 Dataset\n",
        "# ------------------------------------\n",
        "(train_images, train_labels), (test_images, test_labels) = tf.keras.datasets.cifar100.load_data()\n",
        "train_labels = train_labels.ravel()\n",
        "test_labels = test_labels.ravel()\n",
        "\n",
        "# Dataset Splits\n",
        "train_size = 10000\n",
        "val_size = 10000\n",
        "test_size = 10000\n",
        "\n",
        "X_train_raw = train_images[:train_size]\n",
        "y_train = train_labels[:train_size]\n",
        "X_val_raw = train_images[train_size:train_size + val_size]\n",
        "y_val = train_labels[train_size:train_size + val_size]\n",
        "X_test_raw = test_images[:test_size]\n",
        "y_test = test_labels[:test_size]\n",
        "\n",
        "# ------------------------------------\n",
        "# Feature Extraction with HOG\n",
        "# ------------------------------------\n",
        "def compute_hog_batch(images):\n",
        "    features = []\n",
        "    for img in images:\n",
        "        gray = cv2.cvtColor(img, cv2.COLOR_RGB2GRAY)\n",
        "        feat = hog.compute(gray)\n",
        "        features.append(feat.flatten())  # Flatten for classifier\n",
        "    return np.array(features)\n",
        "\n",
        "X_train = compute_hog_batch(X_train_raw)\n",
        "X_val = compute_hog_batch(X_val_raw)\n",
        "X_test = compute_hog_batch(X_test_raw)\n",
        "\n",
        "# ------------------------------------\n",
        "# Feature Scaling\n",
        "# ------------------------------------\n",
        "scaler = StandardScaler()\n",
        "X_train_scaled = scaler.fit_transform(X_train)\n",
        "X_val_scaled = scaler.transform(X_val)\n",
        "X_test_scaled = scaler.transform(X_test)\n",
        "\n",
        "# ------------------------------------\n",
        "# Hyperparameter Tuning with Grid Search\n",
        "# ------------------------------------\n",
        "param_grid = {\n",
        "    'C': [0.1, 1, 10],\n",
        "    'kernel': ['linear', 'rbf', 'poly'],\n",
        "    'gamma': ['scale', 'auto']  # Only used for rbf and poly\n",
        "}\n",
        "\n",
        "grid_search = GridSearchCV(svm.SVC(decision_function_shape='ovr'), param_grid, cv=3, n_jobs=-1, verbose=1)\n",
        "grid_search.fit(X_train_scaled, y_train)\n",
        "\n",
        "# ------------------------------------\n",
        "# Best Model Evaluation\n",
        "# ------------------------------------\n",
        "best_model = grid_search.best_estimator_\n",
        "\n",
        "val_pred = best_model.predict(X_val_scaled)\n",
        "val_acc = accuracy_score(y_val, val_pred)\n",
        "\n",
        "test_pred = best_model.predict(X_test_scaled)\n",
        "test_acc = accuracy_score(y_test, test_pred)\n",
        "\n",
        "print(\"Best SVM Parameters:\", grid_search.best_params_)\n",
        "print(\"Validation Accuracy:\", round(val_acc * 100, 2), \"%\")\n",
        "print(\"Test Accuracy:\", round(test_acc * 100, 2), \"%\")"
      ],
      "metadata": {
        "colab": {
          "base_uri": "https://localhost:8080/"
        },
        "id": "oVrt-6ZLpMGL",
        "outputId": "92a8651d-1f97-435f-9013-273bc540e864"
      },
      "execution_count": 1,
      "outputs": [
        {
          "output_type": "stream",
          "name": "stdout",
          "text": [
            "Fitting 3 folds for each of 18 candidates, totalling 54 fits\n",
            "Best SVM Parameters: {'C': 10, 'gamma': 'scale', 'kernel': 'rbf'}\n",
            "Validation Accuracy: 22.74 %\n",
            "Test Accuracy: 22.82 %\n"
          ]
        }
      ]
    }
  ]
}